{
 "cells": [
  {
   "cell_type": "code",
   "execution_count": 1,
   "metadata": {},
   "outputs": [],
   "source": [
    "import json\n",
    "import quandl\n",
    "import pandas as pd"
   ]
  },
  {
   "cell_type": "code",
   "execution_count": 2,
   "metadata": {},
   "outputs": [],
   "source": [
    "#!pip install quandl"
   ]
  },
  {
   "cell_type": "code",
   "execution_count": 3,
   "metadata": {
    "scrolled": true
   },
   "outputs": [],
   "source": [
    "#premium gasoline prices\n",
    "prices_premg=quandl.get(\"FRED/GASPRMCOVW\", authtoken=\"QU5KeiPzmsQ36PFnq1om\",collapse='monthly')\n",
    "prices_premg=prices_premg.rename(columns = {'Value':'premg'})\n",
    "prices_premg=prices_premg[prices_premg.index>'1998-01-01']\n",
    "\n",
    "#conventional gasoline prices\n",
    "prices_convg=quandl.get(\"FRED/GASREGCOVW\", authtoken=\"QU5KeiPzmsQ36PFnq1om\",collapse='monthly')\n",
    "prices_convg=prices_convg.rename(columns = {'Value':'convg'})\n",
    "prices_convg=prices_convg[prices_convg.index>'1998-01-01']"
   ]
  },
  {
   "cell_type": "code",
   "execution_count": 4,
   "metadata": {},
   "outputs": [],
   "source": [
    "#plot of premium and conventional gasoline prices\n",
    "plot_1_data=pd.concat([prices_convg['convg']/prices_convg['convg'][0],prices_premg['premg']/prices_premg['premg'][0]],axis=1).plot(figsize=(16,9));"
   ]
  },
  {
   "cell_type": "code",
   "execution_count": 5,
   "metadata": {},
   "outputs": [],
   "source": [
    "#Natural gas prices\n",
    "data_ng=quandl.get(\"CHRIS/CME_NG1\", authtoken=\"QU5KeiPzmsQ36PFnq1om\", collapse=\"monthly\")\n",
    "data_ng=data_ng[data_ng.index>'1990-01-01']\n",
    "data_ng=data_ng.rename(columns = {'Last':'Ngas_price'})"
   ]
  },
  {
   "cell_type": "code",
   "execution_count": 6,
   "metadata": {
    "scrolled": true
   },
   "outputs": [],
   "source": [
    "#Crude oil prices\n",
    "data_cl=quandl.get(\"CHRIS/CME_CL1\", authtoken=\"QU5KeiPzmsQ36PFnq1om\", collapse=\"monthly\")\n",
    "data_cl=data_cl[data_cl.index>'1990-01-01']\n",
    "data_cl=data_cl.rename(columns = {'Last':'crude_price'})\n",
    "#data_cl['cl']/data_cl['cl'][0].plot()\n",
    "#(data_cl.crude_price/data_cl.crude_price[0]).plot();"
   ]
  },
  {
   "cell_type": "code",
   "execution_count": 7,
   "metadata": {},
   "outputs": [],
   "source": [
    "#gasoline futures\n",
    "prices_rbob=quandl.get(\"CHRIS/CME_RB1\", authtoken=\"QU5KeiPzmsQ36PFnq1om\", collapse=\"monthly\")\n",
    "prices_rbob=prices_rbob[prices_rbob.index>'1990-01-01']\n",
    "prices_rbob=prices_rbob.rename(columns = {'Last':'rbob'})\n",
    "#prices_rbob.head()"
   ]
  },
  {
   "cell_type": "code",
   "execution_count": 8,
   "metadata": {},
   "outputs": [],
   "source": [
    "#exxon mobil stock price. integrated oil company\n",
    "data_XOM=quandl.get(\"EOD/XOM\", authtoken=\"QU5KeiPzmsQ36PFnq1om\",collapse=\"monthly\")\n",
    "data_XOM=data_XOM[data_XOM.index>'1990-01-01']\n",
    "#data_XOM.head()\n",
    "#(data_XOM['Adj_Close']/data_XOM['Adj_Close'][0]).plot(figsize=(16,9));"
   ]
  },
  {
   "cell_type": "code",
   "execution_count": 9,
   "metadata": {},
   "outputs": [],
   "source": [
    "#plot of various prices(gasoline futures, natural gas crude, XOM, )\n",
    "#plot_2_data=pd.concat([prices_rbob['rbob']/prices_rbob['rbob'][0],data_ng['Ngas_price']/data_ng['Ngas_price'][0],data_cl.crude_price/data_cl.crude_price[0],data_XOM['Adj_Close']/data_XOM['Adj_Close'][0]],axis=1).plot(figsize=(16,9));"
   ]
  },
  {
   "cell_type": "code",
   "execution_count": 10,
   "metadata": {},
   "outputs": [],
   "source": [
    "#US Natural Gas Consumption\n",
    "gas_consumption=pd.read_csv('U.S._Natural_Gas_Total_Consumption_Monthly.csv',index_col=False)\n",
    "gas_consumption.index=(pd.date_range(start='2001-01-01', periods=len(gas_consumption), freq='M'))[::-1]\n",
    "gas_consumption.sort_index(inplace=True)\n",
    "gas_consumption.drop(['Month'], axis=1,inplace=True)\n",
    "gas_consumption=gas_consumption[gas_consumption.index>'1998-01-01']\n",
    "gas_consumption=gas_consumption.rename(columns = {'Series ID: NG.N9140US2.M Million Cubic Feet':'gas_consumption'})\n",
    "#(gas_consumption['gas_consumption']/gas_consumption['gas_consumption'][0]).plot();"
   ]
  },
  {
   "cell_type": "code",
   "execution_count": 11,
   "metadata": {},
   "outputs": [],
   "source": [
    "#US Crude oil production\n",
    "crude_production=pd.read_csv('U.S._Field_Production_of_Crude_Oil_Monthly.csv',index_col=False)\n",
    "crude_production.index=(pd.date_range(start='1920-01-01', periods=len(crude_production), freq='M'))[::-1]\n",
    "crude_production.sort_index(inplace=True)\n",
    "crude_production.drop(['Month'], axis=1,inplace=True)\n",
    "crude_production=crude_production[crude_production.index>'1990-01-01']\n",
    "crude_production=crude_production.rename(columns = {'Series ID: PET.MCRFPUS1.M Thousand Barrels':'crude_production'})\n",
    "#(crude_production['crude_production']/crude_production['crude_production'][0]).plot();"
   ]
  },
  {
   "cell_type": "code",
   "execution_count": 12,
   "metadata": {},
   "outputs": [],
   "source": [
    "#Flared gas from crude oil production and natural gas\n",
    "gas_flared=pd.read_csv('U.S._Natural_Gas_Vented_and_Flared_Monthly.csv',index_col=False)\n",
    "gas_flared.index=(pd.date_range(start='1973-01-01', periods=len(gas_flared), freq='M'))[::-1]\n",
    "gas_flared.sort_index(inplace=True)\n",
    "gas_flared.drop(['Month'], axis=1,inplace=True)\n",
    "gas_flared=gas_flared[gas_flared.index>'1990-01-01']\n",
    "gas_flared=gas_flared.rename(columns = {'Series ID: NG.N9040US2.M Million Cubic Feet':'flared_gas'})\n",
    "#(gas_flared['flared_gas']/gas_flared['flared_gas'][0]).plot();"
   ]
  },
  {
   "cell_type": "code",
   "execution_count": 13,
   "metadata": {},
   "outputs": [],
   "source": [
    "#Gross withdrawals\n",
    "gas_produced=pd.read_csv('U.S._Natural_Gas_Gross_Withdrawals_Monthly.csv',index_col=False)\n",
    "gas_produced.index=(pd.date_range(start='1980-01-01', periods=len(gas_produced), freq='M'))[::-1]\n",
    "gas_produced.sort_index(inplace=True)\n",
    "gas_produced.drop(['Month'], axis=1,inplace=True)\n",
    "gas_produced.index.name='Month'\n",
    "gas_produced=gas_produced[gas_produced.index>'1990-01-01']\n",
    "gas_produced=gas_produced.rename(columns = {'Series ID: NG.N9010US2.M Million Cubic Feet':'gas_produced'})\n",
    "#(gas_produced['gas_produced']/gas_produced['gas_produced'][0]).plot();"
   ]
  },
  {
   "cell_type": "code",
   "execution_count": 14,
   "metadata": {},
   "outputs": [],
   "source": [
    "#natural gas production\n",
    "dry_gas_produced=pd.read_csv('U.S._Dry_Natural_Gas_Production_Monthly.csv',index_col=False)\n",
    "dry_gas_produced.index=(pd.date_range(start='1997-01-01', periods=len(dry_gas_produced), freq='M'))[::-1]\n",
    "dry_gas_produced.sort_index(inplace=True)\n",
    "dry_gas_produced.drop(['Month'], axis=1,inplace=True)\n",
    "dry_gas_produced.index.name='Month'\n",
    "\n",
    "dry_gas_produced=dry_gas_produced[dry_gas_produced.index>'1998-01-01'] \n",
    "dry_gas_produced=dry_gas_produced.rename(columns = {'Series ID: NG.N9070US2.M Million Cubic Feet':'dry_gas_production'})\n",
    "#(dry_gas_produced['dry_gas_production']/dry_gas_produced['dry_gas_production'][0]).plot();"
   ]
  },
  {
   "cell_type": "code",
   "execution_count": 15,
   "metadata": {},
   "outputs": [],
   "source": [
    "#crude exports\n",
    "crude_exports=pd.read_csv('U.S._Exports_of_Crude_Oil_and_Petroleum_Products_Monthly.csv',index_col=False)\n",
    "crude_exports.index=(pd.date_range(start='1981-01-01', periods=len(crude_exports), freq='M'))[::-1]\n",
    "crude_exports.sort_index(inplace=True)\n",
    "crude_exports.drop(['Month'], axis=1,inplace=True)\n",
    "crude_exports.index.name='Month'\n",
    "crude_exports=crude_exports[crude_exports.index>'1990-01-01'] \n",
    "crude_exports=crude_exports.rename(columns = {'Series ID: PET.MTTEXUS1.M Thousand Barrels':'crude_exports'})\n",
    "#(crude_exports['crude_exports']/crude_exports['crude_exports'][0]).plot();\n"
   ]
  },
  {
   "cell_type": "code",
   "execution_count": 16,
   "metadata": {},
   "outputs": [],
   "source": [
    "#plot of oil and gas production\n",
    "#plot_3_data=pd.concat([gas_flared['flared_gas']/gas_flared['flared_gas'][0]\\\n",
    "#                       ,crude_production['crude_production']/crude_production['crude_production'][0]\\\n",
    "#                       ,gas_produced['gas_produced']/gas_produced['gas_produced'][0],\\\n",
    "#                       data_cl.crude_price[:-4]/data_cl.crude_price[0]\\\n",
    "#                       ,crude_exports.crude_exports/crude_exports.crude_exports[0]],axis=1).plot(figsize=(16,9))"
   ]
  },
  {
   "cell_type": "code",
   "execution_count": 17,
   "metadata": {},
   "outputs": [],
   "source": [
    "crude_cons=pd.read_csv('U.S._Product_Supplied_of_Crude_Oil_and_Petroleum_Products_Monthly.csv',index_col=False)\n",
    "crude_cons.index=(pd.date_range(start='1981-01-01', periods=len(crude_cons), freq='M'))[::-1]\n",
    "crude_cons.sort_index(inplace=True)\n",
    "crude_cons.drop(['Month'], axis=1,inplace=True)\n",
    "crude_cons.index.name='Month'\n",
    "crude_cons=crude_cons[crude_cons.index>'1990-01-01']\n",
    "crude_cons=crude_cons.rename(columns = {'Series ID: PET.MTTUPUS1.M Thousand Barrels':'crude_consumption'})\n",
    "#(crude_cons['crude_consumption']/crude_cons['crude_consumption'][0]).plot()"
   ]
  },
  {
   "cell_type": "code",
   "execution_count": 18,
   "metadata": {},
   "outputs": [],
   "source": [
    "co2_emissions_ng=pd.read_csv('Total_carbon_dioxide_emissions_from_all_sectors_natural_gas_United_States.csv',index_col=False)\n",
    "co2_emissions_ng.index=(pd.date_range(start='1980-01-01', periods=len(co2_emissions_ng), freq='A'))[::-1]\n",
    "co2_emissions_ng.sort_index(inplace=True)\n",
    "co2_emissions_ng.drop(['Year'], axis=1,inplace=True)\n",
    "co2_emissions_ng.index.name='Year'\n",
    "co2_emissions_ng=co2_emissions_ng[co2_emissions_ng.index>'1990-01-01']\n",
    "co2_emissions_ng=co2_emissions_ng.rename(columns = {'Series ID: EMISS.CO2-TOTV-TT-NG-US.A million metric tons CO2':'co2_Ngas'})\n",
    "#(co2_emissions_ng['co2_Ngas']/co2_emissions_ng['co2_Ngas'][0]).plot();"
   ]
  },
  {
   "cell_type": "code",
   "execution_count": 19,
   "metadata": {},
   "outputs": [],
   "source": [
    "co2_emissions_all=pd.read_csv('Total_carbon_dioxide_emissions_from_all_sectors_all_fuels_United_States.csv', index_col=False)\n",
    "co2_emissions_all.index=(pd.date_range(start='1980-01-01', periods=len(co2_emissions_all), freq='A'))[::-1]\n",
    "co2_emissions_all.sort_index(inplace=True)\n",
    "co2_emissions_all.drop(['Year'], axis=1,inplace=True)\n",
    "co2_emissions_all.index.name='Year'\n",
    "co2_emissions_all=co2_emissions_all[co2_emissions_all.index>'1990-01-01']\n",
    "co2_emissions_all=co2_emissions_all.rename(columns = {'Series ID: EMISS.CO2-TOTV-TT-TO-US.A million metric tons CO2':'co2_all'})\n",
    "#(co2_emissions_all['co2_all']/co2_emissions_all['co2_all'][0]).plot();"
   ]
  },
  {
   "cell_type": "code",
   "execution_count": 20,
   "metadata": {},
   "outputs": [],
   "source": [
    "co2_emissions_oil=pd.read_csv('Total_carbon_dioxide_emissions_from_all_sectors_petroleum_United_States.csv',index_col=False)\n",
    "co2_emissions_oil.index=(pd.date_range(start='1980-01-01', periods=len(co2_emissions_oil), freq='A'))[::-1]\n",
    "co2_emissions_oil.sort_index(inplace=True)\n",
    "co2_emissions_oil.drop(['Year'], axis=1,inplace=True)\n",
    "co2_emissions_oil.index.name='Year'\n",
    "co2_emissions_oil=co2_emissions_oil[co2_emissions_oil.index>'1990-01-01']\n",
    "co2_emissions_oil=co2_emissions_oil.rename(columns = {'Series ID: EMISS.CO2-TOTV-TT-PE-US.A million metric tons CO2':'co2_oil'})\n",
    "#(co2_emissions_oil['co2_oil']/co2_emissions_oil['co2_oil'][0]).plot();"
   ]
  },
  {
   "cell_type": "code",
   "execution_count": 21,
   "metadata": {},
   "outputs": [],
   "source": [
    "#pd.concat([crude_production['crude_production']/crude_production['crude_production'][0],data_cl.crude_price[:-4]/data_cl.crude_price[0],crude_cons['crude_consumption']/crude_cons['crude_consumption'][0]],axis=1).plot(figsize=(16,9));\n",
    "#plot_4_data=pd.concat([crude_production['crude_production']/crude_production['crude_production'][0],crude_cons['crude_consumption']/crude_cons['crude_consumption'][0]],axis=1).plot(figsize=(16,9));"
   ]
  },
  {
   "cell_type": "code",
   "execution_count": 22,
   "metadata": {},
   "outputs": [],
   "source": [
    "#plot_5_data=pd.concat([gas_flared['flared_gas']/gas_flared['flared_gas'][0],gas_produced['gas_produced']/gas_produced['gas_produced'][0],crude_production['crude_production']/crude_production['crude_production'][0]],axis=1).plot(figsize=(16,9))"
   ]
  },
  {
   "cell_type": "code",
   "execution_count": 23,
   "metadata": {},
   "outputs": [],
   "source": [
    "#plot_6_data=pd.concat([gas_flared['flared_gas']/gas_flared['flared_gas'][0],data_cl.crude_price[:-4]/data_cl.crude_price[0],crude_production['crude_production']/crude_production['crude_production'][0]],axis=1).plot(figsize=(16,9))"
   ]
  },
  {
   "cell_type": "code",
   "execution_count": 24,
   "metadata": {},
   "outputs": [],
   "source": [
    "gas_flared_yearly=gas_flared.resample('A').mean()"
   ]
  },
  {
   "cell_type": "code",
   "execution_count": 25,
   "metadata": {},
   "outputs": [],
   "source": [
    "#(gas_flared_yearly['flared_gas']/gas_flared_yearly['flared_gas'][0]).plot()"
   ]
  },
  {
   "cell_type": "code",
   "execution_count": 26,
   "metadata": {},
   "outputs": [],
   "source": [
    "data_cl_yearly=data_cl.resample('A').mean()\n",
    "#data_cl_yearly.head()\n",
    "#(data_cl_yearly['crude_price']/data_cl_yearly['crude_price'][0]).plot()"
   ]
  },
  {
   "cell_type": "code",
   "execution_count": 27,
   "metadata": {},
   "outputs": [],
   "source": [
    "#plot_7_data=pd.concat([co2_emissions_oil.co2_oil/co2_emissions_oil.co2_oil[0],co2_emissions_ng.co2_Ngas/co2_emissions_ng.co2_Ngas[0],gas_flared_yearly['flared_gas']/gas_flared_yearly['flared_gas'][0],],axis=1).plot(figsize=(16,9))\n",
    "#data_cl_yearly['crude_price']/data_cl_yearly['crude_price'][0]"
   ]
  },
  {
   "cell_type": "code",
   "execution_count": 28,
   "metadata": {},
   "outputs": [
    {
     "data": {
      "image/png": "[encoded data removed]",
      "text/plain": [
       "<Figure size 1152x648 with 1 Axes>"
      ]
     },
     "metadata": {
      "needs_background": "light"
     },
     "output_type": "display_data"
    }
   ],
   "source": [
    "#are net crude oil/natural gas exporters actuall net co2 emitters?\n",
    "plot_8_data=pd.concat([co2_emissions_oil.co2_oil/co2_emissions_oil.co2_oil[0],co2_emissions_ng.co2_Ngas/co2_emissions_ng.co2_Ngas[0],co2_emissions_all.co2_all/co2_emissions_all.co2_all[0],],axis=1).plot(figsize=(16,9))"
   ]
  },
  {
   "cell_type": "code",
   "execution_count": null,
   "metadata": {},
   "outputs": [],
   "source": []
  },
  {
   "cell_type": "code",
   "execution_count": null,
   "metadata": {},
   "outputs": [],
   "source": []
  },
  {
   "cell_type": "code",
   "execution_count": null,
   "metadata": {},
   "outputs": [],
   "source": []
  }
 ],
 "metadata": {
  "kernelspec": {
   "display_name": "Python 3",
   "language": "python",
   "name": "python3"
  },
  "language_info": {
   "codemirror_mode": {
    "name": "ipython",
    "version": 3
   },
   "file_extension": ".py",
   "mimetype": "text/x-python",
   "name": "python",
   "nbconvert_exporter": "python",
   "pygments_lexer": "ipython3",
   "version": "3.7.2"
  }
 },
 "nbformat": 4,
 "nbformat_minor": 2
}
